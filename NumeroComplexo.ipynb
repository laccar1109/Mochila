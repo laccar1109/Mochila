{
  "nbformat": 4,
  "nbformat_minor": 0,
  "metadata": {
    "colab": {
      "provenance": [],
      "authorship_tag": "ABX9TyNOVDmLEtdAyJpLNpnwx6nK",
      "include_colab_link": true
    },
    "kernelspec": {
      "name": "python3",
      "display_name": "Python 3"
    },
    "language_info": {
      "name": "python"
    }
  },
  "cells": [
    {
      "cell_type": "markdown",
      "metadata": {
        "id": "view-in-github",
        "colab_type": "text"
      },
      "source": [
        "<a href=\"https://colab.research.google.com/github/laccar1109/Mochila/blob/main/NumeroComplexo.ipynb\" target=\"_parent\"><img src=\"https://colab.research.google.com/assets/colab-badge.svg\" alt=\"Open In Colab\"/></a>"
      ]
    },
    {
      "cell_type": "code",
      "execution_count": 1,
      "metadata": {
        "id": "v2pQSXl3rFOG"
      },
      "outputs": [],
      "source": [
        "class NumeroComplexo:\n",
        "    def __init__(self, real, imag):\n",
        "        self.real = real\n",
        "        self.imag = imag\n",
        "\n",
        "    def imprimeNumero(self):\n",
        "        print(f\"{self.real} + {self.imag}i\")\n",
        "\n",
        "    def éIgual(self, outroNumero):\n",
        "        return self.real == outroNumero.real and self.imag == outroNumero.imag\n",
        "\n",
        "    def soma(self, outroNumero):\n",
        "        real_resultado = self.real + outroNumero.real\n",
        "        imag_resultado = self.imag + outroNumero.imag\n",
        "        return NumeroComplexo(real_resultado, imag_resultado)\n",
        "\n",
        "    def subtrai(self, outroNumero):\n",
        "        real_resultado = self.real - outroNumero.real\n",
        "        imag_resultado = self.imag - outroNumero.imag\n",
        "        return NumeroComplexo(real_resultado, imag_resultado)\n",
        "\n",
        "    def multiplica(self, outroNumero):\n",
        "        real_resultado = (self.real * outroNumero.real) - (self.imag * outroNumero.imag)\n",
        "        imag_resultado = (self.real * outroNumero.imag) + (self.imag * outroNumero.real)\n",
        "        return NumeroComplexo(real_resultado, imag_resultado)\n",
        "\n",
        "    def divide(self, outroNumero):\n",
        "        divisor = (outroNumero.real ** 2) + (outroNumero.imag ** 2)\n",
        "        real_resultado = ((self.real * outroNumero.real) + (self.imag * outroNumero.imag)) / divisor\n",
        "        imag_resultado = ((self.imag * outroNumero.real) - (self.real * outroNumero.imag)) / divisor\n",
        "        return NumeroComplexo(real_resultado, imag_resultado)\n"
      ]
    },
    {
      "cell_type": "code",
      "source": [
        "# Criando instâncias da classe NumeroComplexo\n",
        "num1 = NumeroComplexo(3, 2)\n",
        "num2 = NumeroComplexo(1, 4)\n",
        "\n",
        "# Imprimindo os números complexos\n",
        "num1.imprimeNumero()  # Saída: 3 + 2i\n",
        "num2.imprimeNumero()  # Saída: 1 + 4i\n",
        "\n",
        "# Verificando se dois números complexos são iguais\n",
        "print(num1.éIgual(num2))  # Saída: False\n",
        "\n",
        "# Realizando a soma de dois números complexos\n",
        "soma = num1.soma(num2)\n",
        "soma.imprimeNumero()  # Saída: 4 + 6i\n",
        "\n",
        "# Realizando a subtração de dois números complexos\n",
        "subtracao = num1.subtrai(num2)\n",
        "subtracao.imprimeNumero()  # Saída: 2 - 2i\n",
        "\n",
        "# Realizando a multiplicação de dois números complexos\n",
        "multiplicacao = num1.multiplica(num2)\n",
        "multiplicacao.imprimeNumero()  # Saída: -5 + 14i\n",
        "\n",
        "# Realizando a divisão de dois números complexos\n",
        "divisao = num1.divide(num2)\n",
        "divisao.imprimeNumero()  # Saída: 0.68 - 0.24i\n"
      ],
      "metadata": {
        "colab": {
          "base_uri": "https://localhost:8080/"
        },
        "id": "4V4z31SdrUJz",
        "outputId": "fa4a5508-61ea-4ec5-f77e-5b44948f84f3"
      },
      "execution_count": 2,
      "outputs": [
        {
          "output_type": "stream",
          "name": "stdout",
          "text": [
            "3 + 2i\n",
            "1 + 4i\n",
            "False\n",
            "4 + 6i\n",
            "2 + -2i\n",
            "-5 + 14i\n",
            "0.6470588235294118 + -0.5882352941176471i\n"
          ]
        }
      ]
    }
  ]
}