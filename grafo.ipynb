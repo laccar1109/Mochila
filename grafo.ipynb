{
  "nbformat": 4,
  "nbformat_minor": 0,
  "metadata": {
    "colab": {
      "provenance": [],
      "authorship_tag": "ABX9TyNexyTeORdJlmVExehaWNgW",
      "include_colab_link": true
    },
    "kernelspec": {
      "name": "python3",
      "display_name": "Python 3"
    },
    "language_info": {
      "name": "python"
    }
  },
  "cells": [
    {
      "cell_type": "markdown",
      "metadata": {
        "id": "view-in-github",
        "colab_type": "text"
      },
      "source": [
        "<a href=\"https://colab.research.google.com/github/laccar1109/Mochila/blob/main/grafo.ipynb\" target=\"_parent\"><img src=\"https://colab.research.google.com/assets/colab-badge.svg\" alt=\"Open In Colab\"/></a>"
      ]
    },
    {
      "cell_type": "code",
      "execution_count": null,
      "metadata": {
        "id": "alS9z1dP5fyD"
      },
      "outputs": [],
      "source": [
        "class Grafo:\n",
        "    def __init__(self, vertices):\n",
        "        self.vertices = vertices\n",
        "        self.lista_adjacencia = {v: [] for v in vertices}\n",
        "\n",
        "    def adiciona_aresta(self, u, v):\n",
        "        self.lista_adjacencia[u].append(v)\n",
        "        self.lista_adjacencia[v].append(u)\n",
        "\n",
        "    def eh_vizinho(self, u, v):\n",
        "        return u in self.lista_adjacencia[v] and v in self.lista_adjacencia[u]\n",
        "\n",
        "    def vizinhos(self, v):\n",
        "        return self.lista_adjacencia[v]\n"
      ]
    },
    {
      "cell_type": "code",
      "source": [
        "vertices = [1, 2, 3, 4]\n",
        "grafo = Grafo(vertices)\n",
        "grafo.adiciona_aresta(1, 2)\n",
        "grafo.adiciona_aresta(2, 3)\n",
        "grafo.adiciona_aresta(3, 4)\n",
        "print(grafo.eh_vizinho(1, 2)) # True\n",
        "print(grafo.eh_vizinho(1, 3)) # False\n",
        "print(grafo.vizinhos(2)) # [1, 3]\n"
      ],
      "metadata": {
        "colab": {
          "base_uri": "https://localhost:8080/"
        },
        "id": "UiJv9K1b5nAm",
        "outputId": "d568ceef-500e-4b3b-b9cd-e5b477e26103"
      },
      "execution_count": null,
      "outputs": [
        {
          "output_type": "stream",
          "name": "stdout",
          "text": [
            "True\n",
            "False\n",
            "[1, 3]\n"
          ]
        }
      ]
    }
  ]
}