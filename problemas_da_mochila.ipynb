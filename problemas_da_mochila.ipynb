{
  "nbformat": 4,
  "nbformat_minor": 0,
  "metadata": {
    "colab": {
      "provenance": [],
      "authorship_tag": "ABX9TyPdbWeQ/0xqa2nrpXg6zqn8",
      "include_colab_link": true
    },
    "kernelspec": {
      "name": "python3",
      "display_name": "Python 3"
    },
    "language_info": {
      "name": "python"
    }
  },
  "cells": [
    {
      "cell_type": "markdown",
      "metadata": {
        "id": "view-in-github",
        "colab_type": "text"
      },
      "source": [
        "<a href=\"https://colab.research.google.com/github/laccar1109/Mochila/blob/main/problemas_da_mochila.ipynb\" target=\"_parent\"><img src=\"https://colab.research.google.com/assets/colab-badge.svg\" alt=\"Open In Colab\"/></a>"
      ]
    },
    {
      "cell_type": "code",
      "execution_count": null,
      "metadata": {
        "id": "Tckj0n9bBDPS"
      },
      "outputs": [],
      "source": [
        "class Objeto:\n",
        "    def __init__(self, id, beneficio, peso):\n",
        "        self.id = id\n",
        "        self.beneficio = beneficio\n",
        "        self.peso = peso\n",
        "\n",
        "\n",
        "class Mochila:\n",
        "    def __init__(self, capacidade):\n",
        "        self.capacidade = capacidade\n",
        "        self.objetos = []\n",
        "\n",
        "    def adicionar_objeto(self, objeto):\n",
        "        self.objetos.append(objeto)\n",
        "\n",
        "    def obter_beneficio_total(self):\n",
        "        beneficio_total = 0\n",
        "        for objeto in self.objetos:\n",
        "            beneficio_total += objeto.beneficio\n",
        "        return beneficio_total\n",
        "\n",
        "    def obter_peso_total(self):\n",
        "        peso_total = 0\n",
        "        for objeto in self.objetos:\n",
        "            peso_total += objeto.peso\n",
        "        return peso_total\n",
        "\n",
        "    def selecionar_objetos(self, lista_objetos):\n",
        "        n = len(lista_objetos)\n",
        "        tabela = [[0] * (self.capacidade + 1) for _ in range(n + 1)]\n",
        "\n",
        "        for i in range(1, n + 1):\n",
        "            objeto_atual = lista_objetos[i - 1]\n",
        "            for j in range(1, self.capacidade + 1):\n",
        "                if objeto_atual.peso <= j:\n",
        "                    tabela[i][j] = max(objeto_atual.beneficio + tabela[i - 1][j - objeto_atual.peso],\n",
        "                                      tabela[i - 1][j])\n",
        "                else:\n",
        "                    tabela[i][j] = tabela[i - 1][j]\n",
        "\n",
        "        peso_atual = self.capacidade\n",
        "        for i in range(n, 0, -1):\n",
        "            if tabela[i][peso_atual] != tabela[i - 1][peso_atual]:\n",
        "                objeto_selecionado = lista_objetos[i - 1]\n",
        "                self.adicionar_objeto(objeto_selecionado)\n",
        "                peso_atual -= objeto_selecionado.peso\n",
        "\n",
        "\n",
        "# Exemplo de uso\n",
        "objetos = [\n",
        "    Objeto(1, 3, 5),\n",
        "    Objeto(2, 3, 4),\n",
        "    Objeto(3, 2, 7),\n",
        "    Objeto(4, 4, 8),\n",
        "    Objeto(5, 2, 4),\n",
        "    Objeto(6, 3, 4),\n",
        "    Objeto(7, 5, 6),\n",
        "    Objeto(8, 3, 8)\n",
        "]\n",
        "\n",
        "capacidade_mochila = 25\n",
        "\n",
        "mochila = Mochila(capacidade_mochila)\n",
        "mochila.selecionar_objetos(objetos)\n",
        "\n",
        "print(\"Objetos selecionados:\")\n",
        "for objeto in mochila.objetos:\n",
        "    print(f\"Objeto {objeto.id} - Benefício: {objeto.beneficio} - Peso: {objeto.peso}\")\n",
        "\n",
        "print(f\"Benefício total: {mochila.obter_beneficio_total()}\")\n",
        "print(f\"Peso total: {mochila.obter_peso_total()}\")\n"
      ]
    }
  ]
}